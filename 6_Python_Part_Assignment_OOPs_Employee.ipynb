{
 "cells": [
  {
   "cell_type": "markdown",
   "id": "22fe379e-f51a-4506-a9e8-ba94aeac0905",
   "metadata": {},
   "source": [
    "# Question 2:\n",
    "\n",
    "#### Create a Python module named employee that contains a class Employee with attributes name, salary and methods get_name() and get_salary(). Write a program to use this module to create an object of the Employee class and display its name and salary."
   ]
  },
  {
   "cell_type": "code",
   "execution_count": 5,
   "id": "d406baa2-a0f3-4cd4-8913-5bd2655ec612",
   "metadata": {},
   "outputs": [],
   "source": [
    "# employee.py\n",
    "class Employee:\n",
    "    def __init__(self, name, salary):\n",
    "        self.name = name\n",
    "        self.salary = salary\n",
    "    def get_name(self):\n",
    "        return self.name\n",
    "    def get_salary(self):\n",
    "        return self.salary"
   ]
  },
  {
   "cell_type": "code",
   "execution_count": 9,
   "id": "e63600c8-84ea-4027-8f7a-4cd651162bd4",
   "metadata": {},
   "outputs": [
    {
     "name": "stdout",
     "output_type": "stream",
     "text": [
      "Employee Name: Upas\n",
      "Employee Salary: 100000\n"
     ]
    }
   ],
   "source": [
    "# main.py\n",
    "# Import the Employee class from the employee module\n",
    "from employee import Employee\n",
    "employee1 = Employee(\"Upas\", 100000)\n",
    "print(\"Employee Name:\", employee1.get_name())\n",
    "print(\"Employee Salary:\", employee1.get_salary())"
   ]
  },
  {
   "cell_type": "code",
   "execution_count": null,
   "id": "eb00d282-5c64-4e4a-846e-43e253b4a474",
   "metadata": {},
   "outputs": [],
   "source": []
  }
 ],
 "metadata": {
  "kernelspec": {
   "display_name": "Python 3 (ipykernel)",
   "language": "python",
   "name": "python3"
  },
  "language_info": {
   "codemirror_mode": {
    "name": "ipython",
    "version": 3
   },
   "file_extension": ".py",
   "mimetype": "text/x-python",
   "name": "python",
   "nbconvert_exporter": "python",
   "pygments_lexer": "ipython3",
   "version": "3.13.2"
  }
 },
 "nbformat": 4,
 "nbformat_minor": 5
}
