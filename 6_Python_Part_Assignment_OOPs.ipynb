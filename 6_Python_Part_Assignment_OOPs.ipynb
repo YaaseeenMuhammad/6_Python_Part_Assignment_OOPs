{
  "nbformat": 4,
  "nbformat_minor": 0,
  "metadata": {
    "colab": {
      "provenance": []
    },
    "kernelspec": {
      "name": "python3",
      "display_name": "Python 3"
    },
    "language_info": {
      "name": "python"
    }
  },
  "cells": [
    {
      "cell_type": "markdown",
      "source": [
        "# Question 1:\n",
        "\n",
        "### Build a program to manage a university's course catalog.\n",
        "\n",
        "1. You want to define a base class Course that has the following properties: course_code: a string representing the course code (e.g., \"CS101\") course_name: a string representing the course name (e.g., \"Introduction to Computer Science\") credit_hours: an integer representing the credit hours for the course (e.g., 3)"
      ],
      "metadata": {
        "id": "lGRYpEMfYV0Z"
      }
    },
    {
      "cell_type": "code",
      "source": [
        "# Base class: Course\n",
        "class Course:\n",
        "    def __init__(self, course_code, course_name, credit_hours):\n",
        "        self.course_code = course_code\n",
        "        self.course_name = course_name\n",
        "        self.credit_hours = credit_hours\n",
        "    def __str__(self):\n",
        "        return f\"{self.course_code}: {self.course_name} ({self.credit_hours} credit hours)\"\n",
        "course = Course(\"CS101\", \"Introduction to Computer Science\", 3)\n",
        "print(course)"
      ],
      "metadata": {
        "colab": {
          "base_uri": "https://localhost:8080/"
        },
        "id": "SvumNgZMZejG",
        "outputId": "c840d683-a51d-4e12-841a-1f3f5f562991"
      },
      "execution_count": null,
      "outputs": [
        {
          "output_type": "stream",
          "name": "stdout",
          "text": [
            "CS101: Introduction to Computer Science (3 credit hours)\n"
          ]
        }
      ]
    },
    {
      "cell_type": "markdown",
      "source": [
        "### 2. Define subclass CoreCourse, which inherit from the Course class.\n",
        "\n",
        "*   CoreCourse should have an additional property required_for_major which is a boolean representing whether the course is required for a particular major."
      ],
      "metadata": {
        "id": "a40pklSyol7q"
      }
    },
    {
      "cell_type": "code",
      "source": [
        "class CoreCourse(Course):\n",
        "    def __init__(self, course_code, course_name, credit_hours, required_for_major):\n",
        "        Course.__init__(self, course_code, course_name, credit_hours)\n",
        "        self.required_for_major = required_for_major\n",
        "\n",
        "    def __str__(self):\n",
        "        required = \"Yes\" if self.required_for_major else \"No\"\n",
        "        return f\"{Course.__str__(self)} - Required for Major: {required}\"\n",
        "core_course = CoreCourse(\"CS101\", \"Introduction to Computer Science\", 3, True)\n",
        "print(core_course)"
      ],
      "metadata": {
        "colab": {
          "base_uri": "https://localhost:8080/"
        },
        "id": "-BYCYCKkpj2T",
        "outputId": "0da69807-1f1b-4d54-b1d8-4f037ac1bb74"
      },
      "execution_count": null,
      "outputs": [
        {
          "output_type": "stream",
          "name": "stdout",
          "text": [
            "CS101: Introduction to Computer Science (3 credit hours) - Required for Major: Yes\n"
          ]
        }
      ]
    },
    {
      "cell_type": "markdown",
      "source": [
        "### 3. Define subclass ElectiveCourse, which inherit from the Course class.\n",
        "\n",
        "*   ElectiveCourse should have an additional property elective_type which is a string representing the type of elective (e.g., \"general\", \"technical\", \"liberal arts\")."
      ],
      "metadata": {
        "id": "Si4mqm5Sqoor"
      }
    },
    {
      "cell_type": "code",
      "source": [
        "class ElectiveCourse(Course):\n",
        "    def __init__(self, course_code, course_name, credit_hours, elective_type):\n",
        "        Course.__init__(self, course_code, course_name, credit_hours)\n",
        "        self.elective_type = elective_type\n",
        "    def __str__(self):\n",
        "        return f\"{Course.__str__(self)} - Elective Type: {self.elective_type}\"\n",
        "elective_course = ElectiveCourse(\"HS101\", \"Introduction to History\", 2, \"Liberal Arts\")\n",
        "print(elective_course)"
      ],
      "metadata": {
        "colab": {
          "base_uri": "https://localhost:8080/"
        },
        "id": "mlOE-ukbrLd0",
        "outputId": "83c59c49-3e86-4290-cc49-df32a7a4729d"
      },
      "execution_count": null,
      "outputs": [
        {
          "output_type": "stream",
          "name": "stdout",
          "text": [
            "HS101: Introduction to History (2 credit hours) - Elective Type: Liberal Arts\n"
          ]
        }
      ]
    }
  ]
}